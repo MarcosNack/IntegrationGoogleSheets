{
 "cells": [
  {
   "cell_type": "code",
   "execution_count": 3,
   "metadata": {},
   "outputs": [],
   "source": [
    "# Necessary libraries\n",
    "\n",
    "import os.path\n",
    "import json\n",
    "\n",
    "import pandas as pd\n",
    "import matplotlib.pyplot as plt\n",
    "\n",
    "from google.auth.transport.requests import Request\n",
    "from google.oauth2.credentials import Credentials\n",
    "from google_auth_oauthlib.flow import InstalledAppFlow\n",
    "from googleapiclient.discovery import build\n",
    "from googleapiclient.errors import HttpError\n",
    "\n"
   ]
  },
  {
   "cell_type": "code",
   "execution_count": 4,
   "metadata": {},
   "outputs": [],
   "source": [
    "# If modifying these scopes, delete the file token.json.\n",
    "# Set the scope to read-only for the file\n",
    "# SCOPES = [\"https://www.googleapis.com/auth/spreadsheets.readonly\"]\n",
    "\n",
    "# Set the scope to full control of the file\n",
    "SCOPES = [\"https://www.googleapis.com/auth/spreadsheets\"]\n",
    "\n",
    "# Load the Google API credentials\n",
    "creds = None\n",
    "if os.path.exists(\"token.json\"):\n",
    "    creds = Credentials.from_authorized_user_file(\"token.json\", SCOPES)\n",
    "if not creds or not creds.valid:\n",
    "    if creds and creds.expired and creds.refresh_token:\n",
    "        creds.refresh(Request())\n",
    "    else:\n",
    "        flow = InstalledAppFlow.from_client_secrets_file(\n",
    "            \"client_secret.json\", SCOPES\n",
    "        )\n",
    "        creds = flow.run_local_server(port=0)\n",
    "    # Save the credentials for the next run\n",
    "    with open(\"token.json\", \"w\") as token:\n",
    "        token.write(creds.to_json())\n",
    "\n",
    "        "
   ]
  },
  {
   "cell_type": "code",
   "execution_count": 61,
   "metadata": {},
   "outputs": [],
   "source": [
    "# Function to load the ID spreadsheet ID \n",
    "def load_spreadsheet_id():\n",
    "    # If modifying these scopes, delete the file token.json.\n",
    "    # Set the scope to read-only for the file\n",
    "    # SCOPES = [\"https://www.googleapis.com/auth/spreadsheets.readonly\"]\n",
    "\n",
    "    # Set the scope to full control of the file\n",
    "    SCOPES = [\"https://www.googleapis.com/auth/spreadsheets\"]\n",
    "\n",
    "    # Load the Google API credentials\n",
    "    creds = None\n",
    "    if os.path.exists(\"token.json\"):\n",
    "        creds = Credentials.from_authorized_user_file(\"token.json\", SCOPES)\n",
    "    if not creds or not creds.valid:\n",
    "        if creds and creds.expired and creds.refresh_token:\n",
    "            creds.refresh(Request())\n",
    "        else:\n",
    "            flow = InstalledAppFlow.from_client_secrets_file(\n",
    "                \"client_secret.json\", SCOPES\n",
    "            )\n",
    "            creds = flow.run_local_server(port=0)\n",
    "        # Save the credentials for the next run\n",
    "        with open(\"token.json\", \"w\") as token:\n",
    "            token.write(creds.to_json())\n",
    "            \n",
    "    with open(\"spreadsheetID.json\", \"r\", encoding=\"utf-8\") as sheet_id:\n",
    "        spreadsheetid = json.load(sheet_id).get(\"spreadsheetId\")\n",
    "        \n",
    "    service = build(\"sheets\", \"v4\", credentials=creds)\n",
    "    # Call the Sheets API\n",
    "    sheet = service.spreadsheets()\n",
    "    \n",
    "    return sheet, spreadsheetid\n",
    "\n",
    "\n",
    "# Function to fetch the sheet values\n",
    "def get_values_sheets(sheet, spreadsheetid, range_name):    \n",
    "    result = sheet.values().get(spreadsheetId=spreadsheetid, range=range_name).execute()    \n",
    "    values = result.get(\"values\", [])\n",
    "    df = pd.DataFrame(values[1:], columns=values[0])\n",
    "    return df\n",
    "\n",
    "\n",
    "# Function to insert new values into the sheet\n",
    "def insert_new_values(sheet, spreadsheetid, values, option):\n",
    "    range_name = \"Dados!A:Z\"    \n",
    "    result = sheet.values().get(spreadsheetId=spreadsheetid, range=range_name).execute()\n",
    "    total_rows = result.get(\"values\", [])\n",
    "    total_rows = len(total_rows)\n",
    "    result = (\n",
    "        sheet.values()\n",
    "        .update(spreadsheetId=spreadsheetid, \n",
    "                range=f\"Dados!A{total_rows}\", valueInputOption=option, body={\"values\": values})            \n",
    "        .execute()\n",
    "    )\n",
    "    \n",
    "    return f\"{result.get('updatedRows')} rows updated.\"\n"
   ]
  },
  {
   "cell_type": "code",
   "execution_count": 24,
   "metadata": {},
   "outputs": [],
   "source": [
    "sheet, spreadsheetid = load_spreadsheet_id()"
   ]
  },
  {
   "cell_type": "code",
   "execution_count": 38,
   "metadata": {},
   "outputs": [
    {
     "data": {
      "text/plain": [
       "['Dados', 'Página2']"
      ]
     },
     "execution_count": 38,
     "metadata": {},
     "output_type": "execute_result"
    }
   ],
   "source": [
    "result = sheet.get(spreadsheetId=spreadsheetid).execute()\n",
    "\n",
    "# Obtém os nomes das abas\n",
    "sheet_names = [sheet['properties']['title'] for sheet in result['sheets']]\n",
    "sheet_names\n",
    "    "
   ]
  },
  {
   "cell_type": "code",
   "execution_count": 43,
   "metadata": {},
   "outputs": [
    {
     "name": "stdout",
     "output_type": "stream",
     "text": [
      "Total rows: 15\n",
      "Total cols: 2\n"
     ]
    }
   ],
   "source": [
    "range_name = \"Dados!A:Z\"\n",
    "result = sheet.values().get(spreadsheetId=spreadsheetid, range=range_name).execute()\n",
    "\n",
    "values = result.get(\"values\", [])\n",
    "total_rows = len(values)\n",
    "total_cols = len(values[0]) if total_rows > 0 else 0\n",
    "\n",
    "print(f\"Total rows: {total_rows}\\nTotal cols: {total_cols}\")"
   ]
  },
  {
   "cell_type": "code",
   "execution_count": 62,
   "metadata": {},
   "outputs": [
    {
     "name": "stdout",
     "output_type": "stream",
     "text": [
      "3 rows updated.\n"
     ]
    }
   ],
   "source": [
    "add_values = [\n",
    "    [\"Dezembro/25\", \"R$78000,00\"],\n",
    "    [\"Janeiro/25\", \"R$80000,00\"],\n",
    "    [\"Fevereiro/25\", \"R$127352,00\"],\n",
    "]\n",
    "\n",
    "option = \"RAW\"\n",
    "\n",
    "result = insert_new_values(sheet, spreadsheetid, add_values, option)\n",
    "\n",
    "print(result)"
   ]
  },
  {
   "cell_type": "code",
   "execution_count": 64,
   "metadata": {},
   "outputs": [
    {
     "data": {
      "text/html": [
       "<div>\n",
       "<style scoped>\n",
       "    .dataframe tbody tr th:only-of-type {\n",
       "        vertical-align: middle;\n",
       "    }\n",
       "\n",
       "    .dataframe tbody tr th {\n",
       "        vertical-align: top;\n",
       "    }\n",
       "\n",
       "    .dataframe thead th {\n",
       "        text-align: right;\n",
       "    }\n",
       "</style>\n",
       "<table border=\"1\" class=\"dataframe\">\n",
       "  <thead>\n",
       "    <tr style=\"text-align: right;\">\n",
       "      <th></th>\n",
       "      <th>Mês</th>\n",
       "      <th>Vendas</th>\n",
       "    </tr>\n",
       "  </thead>\n",
       "  <tbody>\n",
       "    <tr>\n",
       "      <th>0</th>\n",
       "      <td>Janeiro</td>\n",
       "      <td>R$58,915.00</td>\n",
       "    </tr>\n",
       "    <tr>\n",
       "      <th>1</th>\n",
       "      <td>Feverreiro</td>\n",
       "      <td>R$78000,00</td>\n",
       "    </tr>\n",
       "    <tr>\n",
       "      <th>2</th>\n",
       "      <td>Março</td>\n",
       "      <td>R$80000,00</td>\n",
       "    </tr>\n",
       "    <tr>\n",
       "      <th>3</th>\n",
       "      <td>Abril</td>\n",
       "      <td>R$127352,00</td>\n",
       "    </tr>\n",
       "    <tr>\n",
       "      <th>4</th>\n",
       "      <td>Maio</td>\n",
       "      <td>R$66,697.00</td>\n",
       "    </tr>\n",
       "    <tr>\n",
       "      <th>5</th>\n",
       "      <td>Junho</td>\n",
       "      <td>R$68,780.00</td>\n",
       "    </tr>\n",
       "    <tr>\n",
       "      <th>6</th>\n",
       "      <td>Julho</td>\n",
       "      <td>R$49,528.00</td>\n",
       "    </tr>\n",
       "    <tr>\n",
       "      <th>7</th>\n",
       "      <td>Agosto</td>\n",
       "      <td>R$58,897.00</td>\n",
       "    </tr>\n",
       "    <tr>\n",
       "      <th>8</th>\n",
       "      <td>Setembro</td>\n",
       "      <td>R$88,473.00</td>\n",
       "    </tr>\n",
       "    <tr>\n",
       "      <th>9</th>\n",
       "      <td>Outubro</td>\n",
       "      <td>R$22,810.00</td>\n",
       "    </tr>\n",
       "    <tr>\n",
       "      <th>10</th>\n",
       "      <td>Novembro</td>\n",
       "      <td>R$31,424.00</td>\n",
       "    </tr>\n",
       "    <tr>\n",
       "      <th>11</th>\n",
       "      <td>Dezembro</td>\n",
       "      <td>R$78000,00</td>\n",
       "    </tr>\n",
       "    <tr>\n",
       "      <th>12</th>\n",
       "      <td>Janeiro/22</td>\n",
       "      <td>R$80000,00</td>\n",
       "    </tr>\n",
       "    <tr>\n",
       "      <th>13</th>\n",
       "      <td>Dezembro/25</td>\n",
       "      <td>R$78000,00</td>\n",
       "    </tr>\n",
       "    <tr>\n",
       "      <th>14</th>\n",
       "      <td>Janeiro/25</td>\n",
       "      <td>R$80000,00</td>\n",
       "    </tr>\n",
       "    <tr>\n",
       "      <th>15</th>\n",
       "      <td>Dezembro/25</td>\n",
       "      <td>R$78000,00</td>\n",
       "    </tr>\n",
       "    <tr>\n",
       "      <th>16</th>\n",
       "      <td>Janeiro/25</td>\n",
       "      <td>R$80000,00</td>\n",
       "    </tr>\n",
       "    <tr>\n",
       "      <th>17</th>\n",
       "      <td>Fevereiro/25</td>\n",
       "      <td>R$127352,00</td>\n",
       "    </tr>\n",
       "  </tbody>\n",
       "</table>\n",
       "</div>"
      ],
      "text/plain": [
       "             Mês       Vendas\n",
       "0        Janeiro  R$58,915.00\n",
       "1     Feverreiro   R$78000,00\n",
       "2          Março   R$80000,00\n",
       "3          Abril  R$127352,00\n",
       "4           Maio  R$66,697.00\n",
       "5          Junho  R$68,780.00\n",
       "6          Julho  R$49,528.00\n",
       "7         Agosto  R$58,897.00\n",
       "8       Setembro  R$88,473.00\n",
       "9        Outubro  R$22,810.00\n",
       "10      Novembro  R$31,424.00\n",
       "11      Dezembro   R$78000,00\n",
       "12    Janeiro/22   R$80000,00\n",
       "13   Dezembro/25   R$78000,00\n",
       "14    Janeiro/25   R$80000,00\n",
       "15   Dezembro/25   R$78000,00\n",
       "16    Janeiro/25   R$80000,00\n",
       "17  Fevereiro/25  R$127352,00"
      ]
     },
     "execution_count": 64,
     "metadata": {},
     "output_type": "execute_result"
    }
   ],
   "source": [
    "range_sheet = \"Dados!A:Z\"\n",
    "df = get_values_sheets(sheet, spreadsheetid, range_sheet)\n",
    "df"
   ]
  },
  {
   "cell_type": "code",
   "execution_count": 66,
   "metadata": {},
   "outputs": [],
   "source": [
    "df[\"Vendas\"] = df[\"Vendas\"].apply(lambda x: float(str(x).replace(\",\", \"\").replace(\"R$\", \"\")))"
   ]
  },
  {
   "cell_type": "code",
   "execution_count": 68,
   "metadata": {},
   "outputs": [],
   "source": [
    "df.drop_duplicates(ignore_index=True, inplace=True)"
   ]
  },
  {
   "cell_type": "code",
   "execution_count": 69,
   "metadata": {},
   "outputs": [
    {
     "name": "stdout",
     "output_type": "stream",
     "text": [
      "<class 'pandas.core.frame.DataFrame'>\n",
      "RangeIndex: 16 entries, 0 to 15\n",
      "Data columns (total 2 columns):\n",
      " #   Column  Non-Null Count  Dtype  \n",
      "---  ------  --------------  -----  \n",
      " 0   Mês     16 non-null     object \n",
      " 1   Vendas  16 non-null     float64\n",
      "dtypes: float64(1), object(1)\n",
      "memory usage: 388.0+ bytes\n"
     ]
    }
   ],
   "source": [
    "df.info()"
   ]
  },
  {
   "cell_type": "code",
   "execution_count": 72,
   "metadata": {},
   "outputs": [
    {
     "data": {
      "image/png": "[encoded data removed]",
      "text/plain": [
       "<Figure size 640x480 with 1 Axes>"
      ]
     },
     "metadata": {},
     "output_type": "display_data"
    }
   ],
   "source": [
    "ax = df.plot.barh(x=\"Mês\", y=\"Vendas\", legend=False, width=0.85)\n",
    "\n",
    "plt.gcf().set_facecolor('#000000')\n",
    "\n",
    "# Removendo o quadro do gráfico\n",
    "for spine in ax.spines.values():\n",
    "    spine.set_visible(False)\n",
    "\n",
    "# Add backgroud-color grafico\n",
    "ax.set_facecolor(\"#000000\")\n",
    "# Removendo o eixo x\n",
    "ax.get_xaxis().set_visible(False)\n",
    "\n",
    "# Removendo o eixo Y\n",
    "# ax.get_yaxis().set_visible(False)\n",
    "\n",
    "# Alterando a cor dos ticks e rótulos do eixo Y\n",
    "ax.tick_params(axis='y', colors='white')  # Cor dos ticks do eixo Y\n",
    "\n",
    "for i in range(len(df)):\n",
    "    if df[\"Vendas\"].iloc[i] < 1000000:\n",
    "        ax.text(df[\"Vendas\"].iloc[i], i, f'{df[\"Vendas\"].iloc[i]:.0f}', ha=\"left\", va=\"center\", color=\"white\", fontweight='bold', fontsize=10)\n",
    "    else:\n",
    "        ax.text(df[\"Vendas\"].iloc[i], i, f'{df[\"Vendas\"].iloc[i]:.0f}', ha=\"right\", va=\"center\", color=\"white\", fontweight='bold', fontsize=10)\n",
    "        \n",
    "\n",
    "# Removendo os rótulos dos eixos X e Y\n",
    "plt.title(\"Total Vendas\", color='white')\n",
    "plt.xlabel(\"\")  # Remove o rótulo do eixo X\n",
    "plt.ylabel(\"\")  # Remove o rótulo do eixo Y\n",
    "\n",
    "plt.show()"
   ]
  }
 ],
 "metadata": {
  "kernelspec": {
   "display_name": ".venv",
   "language": "python",
   "name": "python3"
  },
  "language_info": {
   "codemirror_mode": {
    "name": "ipython",
    "version": 3
   },
   "file_extension": ".py",
   "mimetype": "text/x-python",
   "name": "python",
   "nbconvert_exporter": "python",
   "pygments_lexer": "ipython3",
   "version": "3.12.3"
  }
 },
 "nbformat": 4,
 "nbformat_minor": 2
}
